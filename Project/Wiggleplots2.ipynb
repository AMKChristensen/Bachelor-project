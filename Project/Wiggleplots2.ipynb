{
 "cells": [
  {
   "cell_type": "markdown",
   "metadata": {},
   "source": [
    "# Making the final 9 simulations for the wiggles"
   ]
  },
  {
   "cell_type": "code",
   "execution_count": 2,
   "metadata": {},
   "outputs": [],
   "source": [
    "import numpy as np\n",
    "import matplotlib.pyplot as plt\n",
    "import matplotlib.animation as animation\n",
    "\n",
    "from methods.SolutionClass2 import SolutionClass\n",
    "from methods.make_input import make_plasma_input\n",
    "from methods.save_load_data2 import save_data, load_data"
   ]
  },
  {
   "cell_type": "code",
   "execution_count": 3,
   "metadata": {},
   "outputs": [],
   "source": [
    "params = make_plasma_input()\n",
    "x_len = (params[\"grid\"][\"x\"][1]-params[\"grid\"][\"x\"][0])\n",
    "params[\"init\"][\"type\"] = \"wave\"\n",
    "params[\"init\"][\"amp\"] = 0.01\n",
    "params[\"init\"][\"n_0\"] = 1\n",
    "params[\"init\"][\"v_0\"] = 0 #10000\n",
    "#params[\"init\"][\"t_0\"] = 1\n",
    "#params[\"init\"][\"k\"] = 2*np.pi/x_len\n",
    "params[\"init\"][\"x_0\"] = 0\n",
    "params[\"output\"][\"tend\"] = 4e-3 #1e-4 to 1e-2\n",
    "params[\"timestepper\"][\"type\"] = \"ARK\"\n",
    "params[\"timestepper\"][\"tableau\"]  = \"ARK-4-2-3\"\n",
    "params[\"poisson\"][\"eps\"]= 1e-12\n",
    "params[\"poisson\"][\"type\"] = \"bicgstab\"\n",
    "params[\"physical\"][\"type\"] = \"original\"\n",
    "params[\"advection\"] = {\"type\" : \"staggered\", \"variant\" : \"slope-limiter-explicit\"}\n",
    "params[\"timestepper\"][\"rtol\"] = 1e-5\n",
    "params[\"bc\"][\"density\"] = \"PER\"\n",
    "params[\"bc\"][\"velocity\"] = \"PER\"\n",
    "params[\"bc\"][\"pressure\"] = \"PER\"\n",
    "params[\"bc\"][\"potential\"] = \"DIR\"\n",
    "\n",
    "params[\"grid\"][\"Nx\"] = 1000\n",
    "params[\"output\"][\"tend\"] = 0.2\n",
    "params[\"output\"][\"maxout\"] = 3000"
   ]
  },
  {
   "cell_type": "markdown",
   "metadata": {},
   "source": [
    "Simulating and saving"
   ]
  },
  {
   "cell_type": "code",
   "execution_count": 4,
   "metadata": {},
   "outputs": [],
   "source": [
    "if False:\n",
    "    for ik, k in enumerate(np.array([6, 10, 14])*2*np.pi/x_len):\n",
    "        for iT, T in enumerate((6.0, 7.0, 8.0)):\n",
    "            print(ik, iT, \"started\")\n",
    "            params[\"init\"][\"k\"]   = k\n",
    "            params[\"init\"][\"t_0\"] = T\n",
    "            sol = SolutionClass(params)\n",
    "            save_data(sol, filename=f\"DATA/Plasma-freq_data 2 LARGE HOT/k{ik+1}T{iT+1}\")"
   ]
  },
  {
   "cell_type": "markdown",
   "metadata": {},
   "source": [
    "Loading"
   ]
  },
  {
   "cell_type": "code",
   "execution_count": 5,
   "metadata": {},
   "outputs": [
    {
     "name": "stderr",
     "output_type": "stream",
     "text": [
      "Exception ignored in: <bound method IPythonKernel._clean_thread_parent_frames of <ipykernel.ipkernel.IPythonKernel object at 0x70495029fd90>>\n",
      "Traceback (most recent call last):\n",
      "  File \"/home/aleksander/.local/lib/python3.10/site-packages/ipykernel/ipkernel.py\", line 775, in _clean_thread_parent_frames\n",
      "    def _clean_thread_parent_frames(\n",
      "KeyboardInterrupt: \n"
     ]
    },
    {
     "name": "stdout",
     "output_type": "stream",
     "text": [
      "Error: No temperature fields found. Setting to zero\n"
     ]
    }
   ],
   "source": [
    "sols = []\n",
    "for n0 in [\"0.60\", \"0.80\", \"1.00\", \"1.20\", \"1.40\", \"1.60\", \"1.80\", \"2.00\"]:\n",
    "    sols.append(load_data(filename=f\"DATA/Plasma-freq_data varying n0/n={n0}\"))"
   ]
  }
 ],
 "metadata": {
  "kernelspec": {
   "display_name": "Python 3",
   "language": "python",
   "name": "python3"
  },
  "language_info": {
   "codemirror_mode": {
    "name": "ipython",
    "version": 3
   },
   "file_extension": ".py",
   "mimetype": "text/x-python",
   "name": "python",
   "nbconvert_exporter": "python",
   "pygments_lexer": "ipython3",
   "version": "3.10.12"
  }
 },
 "nbformat": 4,
 "nbformat_minor": 2
}
